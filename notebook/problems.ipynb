{
    "cells": [
        {
            "cell_type": "markdown",
            "id": "ac622319",
            "metadata": {},
            "source": [
                "# Descriptive Statistics Problems"
            ]
        },
        {
            "cell_type": "markdown",
            "id": "aa8993e4",
            "metadata": {},
            "source": [
                "### Exercise 1"
            ]
        },
        {
            "cell_type": "markdown",
            "id": "5e0ab0d5",
            "metadata": {},
            "source": [
                "As right now, you are familliar with numpy, we are going to use numpy to get some data statistics.\n",
                "\n",
                "First, lets create an array of 20 elements distributed normally (Gaussian):\n",
                "\n",
                "Use the np.random.normal function to create some data, using 0,1,20 as parameters because we want a one dimentional array of 20 numbers distributed normally (Gaussian)"
            ]
        },
        {
            "cell_type": "code",
            "execution_count": 6,
            "id": "34720ab6",
            "metadata": {},
            "outputs": [
                {
                    "name": "stdout",
                    "output_type": "stream",
                    "text": [
                        "[ 0.02637477  0.2603217  -0.39514554 -0.20430091 -1.27163265 -2.59687863\n",
                        "  0.28968091 -0.87330464  0.39407266  0.93510554 -0.01568471  0.25959597\n",
                        " -1.47331424  0.8019266  -1.75075239 -0.49505193 -1.00860081  0.02524419\n",
                        " -0.12150685 -1.54687318]\n"
                    ]
                }
            ],
            "source": [
                "#import libraries\n",
                "import numpy as np\n",
                "\n",
                "# Set seed in order to get similar results\n",
                "np.random.seed(45)\n",
                " \n",
                "# create the data\n",
                "data = np.random.normal(0,1,20)\n",
                "print(data)\n",
                "\n",
                "#print results"
            ]
        },
        {
            "cell_type": "code",
            "execution_count": 7,
            "id": "49c55822",
            "metadata": {},
            "outputs": [
                {
                    "data": {
                        "text/plain": [
                            "-0.438036207661917"
                        ]
                    },
                    "execution_count": 7,
                    "metadata": {},
                    "output_type": "execute_result"
                }
            ],
            "source": [
                "#Use numpy to get the mean of your data\n",
                "data.mean()"
            ]
        },
        {
            "cell_type": "code",
            "execution_count": 8,
            "id": "03529459",
            "metadata": {},
            "outputs": [
                {
                    "data": {
                        "text/plain": [
                            "0.8141514167564757"
                        ]
                    },
                    "execution_count": 8,
                    "metadata": {},
                    "output_type": "execute_result"
                }
            ],
            "source": [
                "#get the variance of your data\n",
                "data.var()"
            ]
        },
        {
            "cell_type": "code",
            "execution_count": 9,
            "id": "e53f30c5",
            "metadata": {},
            "outputs": [
                {
                    "data": {
                        "text/plain": [
                            "0.9023033950709017"
                        ]
                    },
                    "execution_count": 9,
                    "metadata": {},
                    "output_type": "execute_result"
                }
            ],
            "source": [
                "# Standard deviation\n",
                "data.std()"
            ]
        },
        {
            "cell_type": "code",
            "execution_count": 28,
            "id": "9bce852f",
            "metadata": {},
            "outputs": [
                {
                    "name": "stdout",
                    "output_type": "stream",
                    "text": [
                        "la moda de los numeros random es 0.026374772849561846\n"
                    ]
                },
                {
                    "data": {
                        "text/plain": [
                            "ModeResult(mode=5, count=5)"
                        ]
                    },
                    "execution_count": 28,
                    "metadata": {},
                    "output_type": "execute_result"
                }
            ],
            "source": [
                "#import libraries and print the mode\n",
                "import statistics\n",
                "moda = statistics.mode(data)\n",
                "print('La moda de los numeros random es '+ str(moda))\n",
                "\n",
                "# Mode for continuous array\n",
                "from scipy import stats\n",
                "x = np.array([1,1,1,2,5,6,9,8,7,4,5,6,9,7,5,3,6,5,8,6,5,4,8])\n",
                "stats.mode(x)"
            ]
        },
        {
            "cell_type": "code",
            "execution_count": 31,
            "id": "c682cb6e",
            "metadata": {},
            "outputs": [
                {
                    "data": {
                        "text/plain": [
                            "-0.16290387985978763"
                        ]
                    },
                    "execution_count": 31,
                    "metadata": {},
                    "output_type": "execute_result"
                }
            ],
            "source": [
                "# Median\n",
                "np.median(data)\n",
                "#statistics.median(data)"
            ]
        },
        {
            "cell_type": "code",
            "execution_count": 36,
            "id": "39c3fabd",
            "metadata": {},
            "outputs": [
                {
                    "name": "stdout",
                    "output_type": "stream",
                    "text": [
                        "El cuantil de 0.5 es -0.16290387985978763\n",
                        "Los cuantiles 0.25, 0,5 y 0,75 son [-1.07435877 -0.16290388  0.2597774 ]\n"
                    ]
                }
            ],
            "source": [
                "# Print the Quantiles\n",
                "print('El cuantil de 0.5 es ' + str(np.quantile(data, 0.5)))\n",
                "print('Los cuantiles 0.25, 0,5 y 0,75 son '+ str(np.quantile(data, [0.25, 0.5, 0.75])))\n",
                "# This match with np.median, why?\n"
            ]
        },
        {
            "cell_type": "markdown",
            "id": "46c70c3d",
            "metadata": {},
            "source": [
                "### Exercise 2\n",
                "\n",
                "Write a Python program to calculate the standard deviation of the following data:\n",
                "```py\n",
                "data = [4, 2, 5, 8, 6]\n",
                "```"
            ]
        },
        {
            "cell_type": "code",
            "execution_count": 49,
            "id": "d590308e",
            "metadata": {},
            "outputs": [
                {
                    "name": "stdout",
                    "output_type": "stream",
                    "text": [
                        "[4, 2, 5, 8, 6]\n",
                        "El paso largo para la desviacion standar sin usar librerias es 2.23606797749979\n"
                    ]
                }
            ],
            "source": [
                "import math\n",
                "import sys\n",
                "\n",
                "\n",
                "\n",
                "# Define the standard deviation function\n",
                "\n",
                "def sd_calc(data):\n",
                "    #code here\n",
                "    n = len(data)\n",
                "    if n <= 1:\n",
                "        return 0.0\n",
                "    media = sum(data)/ n\n",
                "    sd = 0.0\n",
                "     \n",
                "\n",
                "    # calculate stan. dev.\n",
                "\n",
                "    for dis in data:\n",
                "        sd += (float(dis)- media)**2           \n",
                "    sd = math.sqrt(sd / (n-1))\n",
                "    return sd\n",
                "\n",
                "\n",
                "\n",
                "# Define the average function\n",
                "\n",
                "#def avg_calc(data):\n",
                "    #code here\n",
                "  \n",
                "    \n",
                "    \n",
                "\n",
                "    # calculate average\n",
                "    \n",
                "    \n",
                "    \n",
                "\n",
                "data = [4, 2, 5, 8, 6]\n",
                "\n",
                "#print the data\n",
                "print(data)\n",
                "#print the standard deviation of the data\n",
                "print('El paso largo para la desviacion standar sin usar librerias es '+ str(sd_calc(data)))"
            ]
        },
        {
            "cell_type": "markdown",
            "id": "04b71791",
            "metadata": {},
            "source": [
                "Source:\n",
                "\n",
                "https://www.w3resource.com/"
            ]
        }
    ],
    "metadata": {
        "interpreter": {
            "hash": "9248718ffe6ce6938b217e69dbcc175ea21f4c6b28a317e96c05334edae734bb"
        },
        "kernelspec": {
            "display_name": "Python 3.9.12 ('ML-BOOTCAMP')",
            "language": "python",
            "name": "python3"
        },
        "language_info": {
            "codemirror_mode": {
                "name": "ipython",
                "version": 3
            },
            "file_extension": ".py",
            "mimetype": "text/x-python",
            "name": "python",
            "nbconvert_exporter": "python",
            "pygments_lexer": "ipython3",
            "version": "3.11.4"
        }
    },
    "nbformat": 4,
    "nbformat_minor": 5
}
